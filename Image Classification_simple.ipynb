{
 "cells": [
  {
   "attachments": {},
   "cell_type": "markdown",
   "metadata": {},
   "source": [
    "# 0. Set up"
   ]
  },
  {
   "cell_type": "code",
   "execution_count": 1,
   "metadata": {},
   "outputs": [],
   "source": [
    "import tensorflow as tf\n",
    "from tensorflow import keras\n",
    "import matplotlib.pyplot as plt\n",
    "import numpy as np"
   ]
  },
  {
   "cell_type": "code",
   "execution_count": 3,
   "metadata": {},
   "outputs": [],
   "source": [
    "(X_train, y_train), (X_test,y_test) = tf.keras.datasets.cifar10.load_data()"
   ]
  },
  {
   "cell_type": "code",
   "execution_count": 5,
   "metadata": {},
   "outputs": [
    {
     "data": {
      "text/plain": [
       "(50000, 32, 32, 3)"
      ]
     },
     "execution_count": 5,
     "metadata": {},
     "output_type": "execute_result"
    }
   ],
   "source": [
    "X_train.shape"
   ]
  },
  {
   "attachments": {},
   "cell_type": "markdown",
   "metadata": {},
   "source": [
    "# 1. Preprocessing"
   ]
  },
  {
   "attachments": {},
   "cell_type": "markdown",
   "metadata": {},
   "source": [
    "## 1.1 Normalise the data and use one hot encoding"
   ]
  },
  {
   "cell_type": "code",
   "execution_count": 6,
   "metadata": {},
   "outputs": [],
   "source": [
    "#Normalize the RGB to between 0 and 1\n",
    "X_train_scaled = X_train/255\n",
    "X_test_scaled = X_test/255\n",
    "\n",
    "#changes the category to one hot encoding\n",
    "#[1] -> [1,0,0,0,0,0,0,0,0,0,0]\n",
    "y_train_categorical = keras.utils.to_categorical(\n",
    "    y_train, num_classes=10, dtype='float32'\n",
    ")\n",
    "y_test_categorical = keras.utils.to_categorical(\n",
    "    y_test, num_classes=10, dtype='float32'\n",
    ")"
   ]
  },
  {
   "cell_type": "code",
   "execution_count": 7,
   "metadata": {},
   "outputs": [
    {
     "name": "stdout",
     "output_type": "stream",
     "text": [
      "(10000, 1)\n",
      "(10000, 10)\n"
     ]
    }
   ],
   "source": [
    "print(y_test.shape)\n",
    "print(y_test_categorical.shape)"
   ]
  },
  {
   "attachments": {},
   "cell_type": "markdown",
   "metadata": {},
   "source": [
    "# 2. Model"
   ]
  },
  {
   "cell_type": "code",
   "execution_count": 9,
   "metadata": {},
   "outputs": [
    {
     "name": "stdout",
     "output_type": "stream",
     "text": [
      "Epoch 1/5\n",
      "1563/1563 [==============================] - 74s 47ms/step - loss: 1.8118 - accuracy: 0.3514\n",
      "Epoch 2/5\n",
      "1563/1563 [==============================] - 69s 44ms/step - loss: 1.6221 - accuracy: 0.4275\n",
      "Epoch 3/5\n",
      "1563/1563 [==============================] - 68s 44ms/step - loss: 1.5430 - accuracy: 0.4563\n",
      "Epoch 4/5\n",
      "1563/1563 [==============================] - 68s 44ms/step - loss: 1.4822 - accuracy: 0.4762\n",
      "Epoch 5/5\n",
      "1563/1563 [==============================] - 67s 43ms/step - loss: 1.4337 - accuracy: 0.4968\n"
     ]
    },
    {
     "data": {
      "text/plain": [
       "<keras.callbacks.History at 0x20c4c5eada0>"
      ]
     },
     "execution_count": 9,
     "metadata": {},
     "output_type": "execute_result"
    }
   ],
   "source": [
    "model = keras.Sequential([\n",
    "    keras.layers.Flatten(input_shape = (32,32,3)),\n",
    "    keras.layers.Dense(3000, activation='relu'), #32*32*3 = 3072, so 3000 just a random smaller number\n",
    "    keras.layers.Dense(1000, activation='relu'),\n",
    "    keras.layers.Dense(10, activation='softmax') #outputs a probability for each class\n",
    "])\n",
    "\n",
    "model.compile(optimizer='SGD',\n",
    "              loss='categorical_crossentropy',\n",
    "              metrics=['accuracy'])"
   ]
  },
  {
   "cell_type": "code",
   "execution_count": 13,
   "metadata": {},
   "outputs": [
    {
     "name": "stdout",
     "output_type": "stream",
     "text": [
      "Epoch 1/5\n",
      "1563/1563 [==============================] - 64s 41ms/step - loss: 1.3889 - accuracy: 0.5130\n",
      "Epoch 2/5\n",
      "1563/1563 [==============================] - 65s 41ms/step - loss: 1.3535 - accuracy: 0.5242\n",
      "Epoch 3/5\n",
      "1563/1563 [==============================] - 66s 42ms/step - loss: 1.3186 - accuracy: 0.5360\n",
      "Epoch 4/5\n",
      "1563/1563 [==============================] - 64s 41ms/step - loss: 1.2868 - accuracy: 0.5499\n",
      "Epoch 5/5\n",
      "1563/1563 [==============================] - 64s 41ms/step - loss: 1.2570 - accuracy: 0.5583\n"
     ]
    }
   ],
   "source": [
    "history = model.fit(X_train_scaled, y_train_categorical, epochs=5)"
   ]
  },
  {
   "cell_type": "code",
   "execution_count": 15,
   "metadata": {},
   "outputs": [
    {
     "name": "stdout",
     "output_type": "stream",
     "text": [
      "313/313 [==============================] - 4s 12ms/step - loss: 1.4874 - accuracy: 0.4751\n",
      "Test Loss: 1.487366795539856\n",
      "Test Accuracy: 0.47510001063346863\n"
     ]
    }
   ],
   "source": [
    "# Assuming you have already trained your model and stored it in the variable 'model'\n",
    "\n",
    "# Evaluate the model on the test data\n",
    "loss, accuracy = model.evaluate(X_test_scaled, y_test_categorical)\n",
    "\n",
    "# Print the test loss and accuracy\n",
    "print(\"Test Loss:\", loss)\n",
    "print(\"Test Accuracy:\", accuracy)"
   ]
  },
  {
   "cell_type": "code",
   "execution_count": 16,
   "metadata": {},
   "outputs": [
    {
     "data": {
      "image/png": "[encoded data removed]",
      "text/plain": [
       "<Figure size 640x480 with 1 Axes>"
      ]
     },
     "metadata": {},
     "output_type": "display_data"
    }
   ],
   "source": [
    "import matplotlib.pyplot as plt\n",
    "\n",
    "# Assuming you have trained your model and stored the training history in the variable 'history'\n",
    "\n",
    "# Get the training and validation loss from the history\n",
    "train_loss = history.history['loss']\n",
    "\n",
    "# Plot the training and validation loss\n",
    "epochs = range(1, len(train_loss) + 1)\n",
    "plt.plot(epochs, train_loss, 'b', label='Training Loss')\n",
    "plt.title('Training and Validation Loss')\n",
    "plt.xlabel('Epochs')\n",
    "plt.ylabel('Loss')\n",
    "plt.legend()\n",
    "plt.show()"
   ]
  }
 ],
 "metadata": {
  "kernelspec": {
   "display_name": "Python 3",
   "language": "python",
   "name": "python3"
  },
  "language_info": {
   "codemirror_mode": {
    "name": "ipython",
    "version": 3
   },
   "file_extension": ".py",
   "mimetype": "text/x-python",
   "name": "python",
   "nbconvert_exporter": "python",
   "pygments_lexer": "ipython3",
   "version": "3.10.9"
  },
  "orig_nbformat": 4
 },
 "nbformat": 4,
 "nbformat_minor": 2
}
